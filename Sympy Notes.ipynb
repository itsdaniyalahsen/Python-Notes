{
 "cells": [
  {
   "cell_type": "code",
   "execution_count": 1,
   "id": "dda479c0",
   "metadata": {},
   "outputs": [],
   "source": [
    "import sympy as sym\n",
    "import numpy as np\n",
    "import matplotlib.pyplot as plt"
   ]
  },
  {
   "cell_type": "markdown",
   "id": "159593e3",
   "metadata": {},
   "source": [
    "### Projective Falling\n",
    "\n",
    "$X(t) = X_0 + V_{X0} t + g  t^2$\n",
    "\n",
    "### Platform Moving Upwards\n",
    "\n",
    "$Y(t) = V_{Y0} t - g t^2 $\n",
    "\n",
    "### Constraint\n",
    "\n",
    "$V_X(t) = V_Y(t)$"
   ]
  },
  {
   "cell_type": "code",
   "execution_count": 4,
   "id": "cdc6dd1f",
   "metadata": {},
   "outputs": [],
   "source": [
    "t, X0, VX0, VY0 = sym.symbols(r'X_0 t V_{X0} V_{Y0}')"
   ]
  },
  {
   "cell_type": "code",
   "execution_count": 10,
   "id": "5d9af291",
   "metadata": {},
   "outputs": [],
   "source": [
    "X = X0 + VX0 * t + 9.81 * t**2\n",
    "Y = VY0 * t - 9.1 * t**2\n",
    "\n",
    "dXdt = X0 * t + 2 * 9.81 * t\n",
    "dYdt = VY0 - 2 * 9.81 * t"
   ]
  },
  {
   "cell_type": "code",
   "execution_count": 26,
   "id": "a2213278",
   "metadata": {},
   "outputs": [],
   "source": [
    "eqn1, eqn2 = dXdt-dYdt, X-Y\n",
    "\n",
    "sols = sym.solve([eqn1, eqn2], [X0, VX0, VY0])"
   ]
  },
  {
   "cell_type": "code",
   "execution_count": 28,
   "id": "07d392b7",
   "metadata": {},
   "outputs": [
    {
     "data": {
      "text/plain": [
       "dict_keys([t, V_{X0}])"
      ]
     },
     "execution_count": 28,
     "metadata": {},
     "output_type": "execute_result"
    }
   ],
   "source": [
    "sols.keys()"
   ]
  }
 ],
 "metadata": {
  "kernelspec": {
   "display_name": "Python 3 (ipykernel)",
   "language": "python",
   "name": "python3"
  },
  "language_info": {
   "codemirror_mode": {
    "name": "ipython",
    "version": 3
   },
   "file_extension": ".py",
   "mimetype": "text/x-python",
   "name": "python",
   "nbconvert_exporter": "python",
   "pygments_lexer": "ipython3",
   "version": "3.10.6"
  }
 },
 "nbformat": 4,
 "nbformat_minor": 5
}
